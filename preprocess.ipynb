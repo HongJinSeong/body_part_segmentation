{
 "cells": [
  {
   "cell_type": "code",
   "execution_count": 2,
   "id": "e6c8e6b5-a3b4-4e30-899a-1e7e598cf904",
   "metadata": {},
   "outputs": [
    {
     "name": "stdout",
     "output_type": "stream",
     "text": [
      "\u001b[33mWARNING: The directory '/root/.cache/pip' or its parent directory is not owned or is not writable by the current user. The cache has been disabled. Check the permissions and owner of that directory. If executing pip with sudo, you should use sudo's -H flag.\u001b[0m\n",
      "Requirement already satisfied: certifi==2021.5.30 in /opt/conda/lib/python3.7/site-packages (from -r requirements.txt (line 1)) (2021.5.30)\n",
      "Requirement already satisfied: cycler==0.10.0 in /opt/conda/lib/python3.7/site-packages (from -r requirements.txt (line 2)) (0.10.0)\n",
      "Requirement already satisfied: Cython==0.29.24 in /opt/conda/lib/python3.7/site-packages (from -r requirements.txt (line 3)) (0.29.24)\n",
      "Requirement already satisfied: kiwisolver==1.3.2 in /opt/conda/lib/python3.7/site-packages (from -r requirements.txt (line 4)) (1.3.2)\n",
      "Requirement already satisfied: matplotlib==3.4.3 in /opt/conda/lib/python3.7/site-packages (from -r requirements.txt (line 5)) (3.4.3)\n",
      "Requirement already satisfied: numpy==1.21.2 in /opt/conda/lib/python3.7/site-packages (from -r requirements.txt (line 6)) (1.21.2)\n",
      "Requirement already satisfied: opencv-python==4.5.3.56 in /opt/conda/lib/python3.7/site-packages (from -r requirements.txt (line 7)) (4.5.3.56)\n",
      "Requirement already satisfied: Pillow==8.3.2 in /opt/conda/lib/python3.7/site-packages (from -r requirements.txt (line 8)) (8.3.2)\n",
      "Requirement already satisfied: pycocotools==2.0.2 in /opt/conda/lib/python3.7/site-packages (from -r requirements.txt (line 9)) (2.0.2)\n",
      "Requirement already satisfied: pyparsing==2.4.7 in /opt/conda/lib/python3.7/site-packages (from -r requirements.txt (line 10)) (2.4.7)\n",
      "Requirement already satisfied: python-dateutil==2.8.2 in /opt/conda/lib/python3.7/site-packages (from -r requirements.txt (line 11)) (2.8.2)\n",
      "Requirement already satisfied: six==1.16.0 in /opt/conda/lib/python3.7/site-packages (from -r requirements.txt (line 12)) (1.16.0)\n",
      "Requirement already satisfied: tqdm==4.62.2 in /opt/conda/lib/python3.7/site-packages (from -r requirements.txt (line 13)) (4.62.2)\n",
      "Requirement already satisfied: setuptools>=18.0 in /opt/conda/lib/python3.7/site-packages (from pycocotools==2.0.2->-r requirements.txt (line 9)) (52.0.0.post20210125)\n",
      "\u001b[33mWARNING: Running pip as the 'root' user can result in broken permissions and conflicting behaviour with the system package manager. It is recommended to use a virtual environment instead: https://pip.pypa.io/warnings/venv\u001b[0m\n"
     ]
    }
   ],
   "source": [
    "!pip install -r requirements.txt"
   ]
  },
  {
   "cell_type": "code",
   "execution_count": 1,
   "id": "904a3982-7aa1-4d41-be78-123480145070",
   "metadata": {},
   "outputs": [
    {
     "name": "stdout",
     "output_type": "stream",
     "text": [
      "Collecting opencv-contrib-python\n",
      "  Downloading opencv_contrib_python-4.5.4.58-cp37-cp37m-manylinux2014_x86_64.whl (66.5 MB)\n",
      "     |████████████████████████████████| 66.5 MB 34 kB/s             \n",
      "\u001b[?25hRequirement already satisfied: numpy>=1.14.5 in /opt/conda/lib/python3.7/site-packages (from opencv-contrib-python) (1.21.2)\n",
      "Installing collected packages: opencv-contrib-python\n",
      "Successfully installed opencv-contrib-python-4.5.4.58\n",
      "\u001b[33mWARNING: Running pip as the 'root' user can result in broken permissions and conflicting behaviour with the system package manager. It is recommended to use a virtual environment instead: https://pip.pypa.io/warnings/venv\u001b[0m\n",
      "Note: you may need to restart the kernel to use updated packages.\n"
     ]
    }
   ],
   "source": [
    "pip install opencv-contrib-python"
   ]
  },
  {
   "cell_type": "code",
   "execution_count": 8,
   "id": "88d9ac3f-3d80-4728-a5f4-b12bcf0ca9b7",
   "metadata": {},
   "outputs": [
    {
     "name": "stdout",
     "output_type": "stream",
     "text": [
      "Extract Train data Segmentation Mask\n",
      "loading annotations into memory...\n",
      "Done (t=11.33s)\n",
      "creating index...\n",
      "index created!\n",
      "  0%|                                                 | 0/26437 [00:00<?, ?it/s][ 0.  1.  2.  3.  5.  6.  7.  8.  9. 10. 12. 13. 14.]\n",
      "[ 0.  1.  7. 10. 11. 14.]\n",
      "  0%|                                                 | 0/26437 [00:00<?, ?it/s]\n",
      "Extract Val data Segmentation Mask\n",
      "loading annotations into memory...\n",
      "Done (t=0.59s)\n",
      "creating index...\n",
      "index created!\n",
      "  0%|                                                  | 0/1508 [00:00<?, ?it/s][ 0.  1.  2.  3.  6.  7.  9. 10. 12. 13. 14.]\n",
      "  0%|                                                  | 0/1508 [00:00<?, ?it/s]\n"
     ]
    }
   ],
   "source": [
    "!sh convert.sh"
   ]
  },
  {
   "cell_type": "code",
   "execution_count": 3,
   "id": "fc8cab6c-b5ed-473c-861a-0047391b61af",
   "metadata": {},
   "outputs": [
    {
     "name": "stdout",
     "output_type": "stream",
     "text": [
      "Ign:1 https://developer.download.nvidia.com/compute/cuda/repos/ubuntu1804/x86_64  InRelease\n",
      "Get:2 http://security.ubuntu.com/ubuntu bionic-security InRelease [88.7 kB]\n",
      "Ign:3 https://developer.download.nvidia.com/compute/machine-learning/repos/ubuntu1804/x86_64  InRelease\n",
      "Get:4 https://developer.download.nvidia.com/compute/cuda/repos/ubuntu1804/x86_64  Release [696 B]\n",
      "Get:5 http://archive.ubuntu.com/ubuntu bionic InRelease [242 kB]               \n",
      "Get:6 https://developer.download.nvidia.com/compute/machine-learning/repos/ubuntu1804/x86_64  Release [564 B]\n",
      "Get:7 https://developer.download.nvidia.com/compute/cuda/repos/ubuntu1804/x86_64  Release.gpg [836 B]\n",
      "Get:8 https://developer.download.nvidia.com/compute/machine-learning/repos/ubuntu1804/x86_64  Release.gpg [833 B]\n",
      "Get:9 https://developer.download.nvidia.com/compute/cuda/repos/ubuntu1804/x86_64  Packages [754 kB]\n",
      "Get:10 http://security.ubuntu.com/ubuntu bionic-security/universe amd64 Packages [1434 kB]\n",
      "Get:11 https://developer.download.nvidia.com/compute/machine-learning/repos/ubuntu1804/x86_64  Packages [73.8 kB]\n",
      "Get:12 http://archive.ubuntu.com/ubuntu bionic-updates InRelease [88.7 kB]     \n",
      "Get:13 http://archive.ubuntu.com/ubuntu bionic-backports InRelease [74.6 kB]   \n",
      "Get:14 http://archive.ubuntu.com/ubuntu bionic/main amd64 Packages [1344 kB]\n",
      "Get:15 http://security.ubuntu.com/ubuntu bionic-security/multiverse amd64 Packages [26.7 kB]\n",
      "Get:16 http://security.ubuntu.com/ubuntu bionic-security/restricted amd64 Packages [632 kB]\n",
      "Get:17 http://security.ubuntu.com/ubuntu bionic-security/main amd64 Packages [2398 kB]\n",
      "Get:18 http://archive.ubuntu.com/ubuntu bionic/multiverse amd64 Packages [186 kB]\n",
      "Get:19 http://archive.ubuntu.com/ubuntu bionic/restricted amd64 Packages [13.5 kB]\n",
      "Get:20 http://archive.ubuntu.com/ubuntu bionic/universe amd64 Packages [11.3 MB]\n",
      "Get:21 http://archive.ubuntu.com/ubuntu bionic-updates/main amd64 Packages [2835 kB]\n",
      "Get:22 http://archive.ubuntu.com/ubuntu bionic-updates/multiverse amd64 Packages [34.4 kB]\n",
      "Get:23 http://archive.ubuntu.com/ubuntu bionic-updates/universe amd64 Packages [2213 kB]\n",
      "Get:24 http://archive.ubuntu.com/ubuntu bionic-updates/restricted amd64 Packages [665 kB]\n",
      "Get:25 http://archive.ubuntu.com/ubuntu bionic-backports/universe amd64 Packages [11.4 kB]\n",
      "Get:26 http://archive.ubuntu.com/ubuntu bionic-backports/main amd64 Packages [11.3 kB]\n",
      "Fetched 24.5 MB in 24s (1033 kB/s)                                             \n",
      "Reading package lists... Done\n"
     ]
    }
   ],
   "source": [
    "!apt-get update"
   ]
  },
  {
   "cell_type": "code",
   "execution_count": 1,
   "id": "268e0556-d24f-4397-ad7c-cbc5bb0493da",
   "metadata": {},
   "outputs": [
    {
     "name": "stdout",
     "output_type": "stream",
     "text": [
      "Reading package lists... Done\n",
      "Building dependency tree       \n",
      "Reading state information... Done\n",
      "The following additional packages will be installed:\n",
      "  libglib2.0-data libicu60 libxml2 shared-mime-info xdg-user-dirs\n",
      "The following NEW packages will be installed:\n",
      "  libglib2.0-0 libglib2.0-data libicu60 libxml2 shared-mime-info xdg-user-dirs\n",
      "0 upgraded, 6 newly installed, 0 to remove and 54 not upgraded.\n",
      "Need to get 10.4 MB of archives.\n",
      "After this operation, 40.9 MB of additional disk space will be used.\n",
      "Get:1 http://archive.ubuntu.com/ubuntu bionic-updates/main amd64 libglib2.0-0 amd64 2.56.4-0ubuntu0.18.04.8 [1171 kB]\n",
      "Get:2 http://archive.ubuntu.com/ubuntu bionic-updates/main amd64 libglib2.0-data all 2.56.4-0ubuntu0.18.04.8 [4716 B]\n",
      "Get:3 http://archive.ubuntu.com/ubuntu bionic-updates/main amd64 libicu60 amd64 60.2-3ubuntu3.1 [8054 kB]\n",
      "Get:4 http://archive.ubuntu.com/ubuntu bionic-updates/main amd64 libxml2 amd64 2.9.4+dfsg1-6.1ubuntu1.4 [664 kB]\n",
      "Get:5 http://archive.ubuntu.com/ubuntu bionic/main amd64 shared-mime-info amd64 1.9-2 [426 kB]\n",
      "Get:6 http://archive.ubuntu.com/ubuntu bionic/main amd64 xdg-user-dirs amd64 0.17-1ubuntu1 [48.0 kB]\n",
      "Fetched 10.4 MB in 13s (826 kB/s)                                              \n",
      "debconf: delaying package configuration, since apt-utils is not installed\n",
      "Selecting previously unselected package libglib2.0-0:amd64.\n",
      "(Reading database ... 12932 files and directories currently installed.)\n",
      "Preparing to unpack .../0-libglib2.0-0_2.56.4-0ubuntu0.18.04.8_amd64.deb ...\n",
      "Unpacking libglib2.0-0:amd64 (2.56.4-0ubuntu0.18.04.8) ...\n",
      "Selecting previously unselected package libglib2.0-data.\n",
      "Preparing to unpack .../1-libglib2.0-data_2.56.4-0ubuntu0.18.04.8_all.deb ...\n",
      "Unpacking libglib2.0-data (2.56.4-0ubuntu0.18.04.8) ...\n",
      "Selecting previously unselected package libicu60:amd64.\n",
      "Preparing to unpack .../2-libicu60_60.2-3ubuntu3.1_amd64.deb ...\n",
      "Unpacking libicu60:amd64 (60.2-3ubuntu3.1) ...\n",
      "Selecting previously unselected package libxml2:amd64.\n",
      "Preparing to unpack .../3-libxml2_2.9.4+dfsg1-6.1ubuntu1.4_amd64.deb ...\n",
      "Unpacking libxml2:amd64 (2.9.4+dfsg1-6.1ubuntu1.4) ...\n",
      "Selecting previously unselected package shared-mime-info.\n",
      "Preparing to unpack .../4-shared-mime-info_1.9-2_amd64.deb ...\n",
      "Unpacking shared-mime-info (1.9-2) ...\n",
      "Selecting previously unselected package xdg-user-dirs.\n",
      "Preparing to unpack .../5-xdg-user-dirs_0.17-1ubuntu1_amd64.deb ...\n",
      "Unpacking xdg-user-dirs (0.17-1ubuntu1) ...\n",
      "Setting up libicu60:amd64 (60.2-3ubuntu3.1) ...\n",
      "Setting up libglib2.0-0:amd64 (2.56.4-0ubuntu0.18.04.8) ...\n",
      "No schema files found: doing nothing.\n",
      "Setting up libxml2:amd64 (2.9.4+dfsg1-6.1ubuntu1.4) ...\n",
      "Setting up libglib2.0-data (2.56.4-0ubuntu0.18.04.8) ...\n",
      "Setting up shared-mime-info (1.9-2) ...\n",
      "Setting up xdg-user-dirs (0.17-1ubuntu1) ...\n",
      "Processing triggers for libc-bin (2.27-3ubuntu1.3) ...\n"
     ]
    }
   ],
   "source": [
    "!apt-get install libglib2.0-0 -y"
   ]
  },
  {
   "cell_type": "code",
   "execution_count": 9,
   "id": "238547f6-ef1e-415f-800b-e8b9c65030fd",
   "metadata": {},
   "outputs": [
    {
     "name": "stdout",
     "output_type": "stream",
     "text": [
      "Collecting mmcv-full\n",
      "  Downloading mmcv-full-1.3.16.tar.gz (389 kB)\n",
      "     |████████████████████████████████| 389 kB 1.0 MB/s            \n",
      "\u001b[?25h  Preparing metadata (setup.py) ... \u001b[?25ldone\n",
      "\u001b[?25hRequirement already satisfied: addict in /opt/conda/lib/python3.7/site-packages (from mmcv-full) (2.4.0)\n",
      "Requirement already satisfied: numpy in /opt/conda/lib/python3.7/site-packages (from mmcv-full) (1.21.2)\n",
      "Requirement already satisfied: packaging in /opt/conda/lib/python3.7/site-packages (from mmcv-full) (21.0)\n",
      "Requirement already satisfied: Pillow in /opt/conda/lib/python3.7/site-packages (from mmcv-full) (8.3.2)\n",
      "Requirement already satisfied: pyyaml in /opt/conda/lib/python3.7/site-packages (from mmcv-full) (5.4.1)\n",
      "Requirement already satisfied: yapf in /opt/conda/lib/python3.7/site-packages (from mmcv-full) (0.31.0)\n",
      "Requirement already satisfied: pyparsing>=2.0.2 in /opt/conda/lib/python3.7/site-packages (from packaging->mmcv-full) (2.4.7)\n",
      "Building wheels for collected packages: mmcv-full\n",
      "  Building wheel for mmcv-full (setup.py) ... \u001b[?25ldone\n",
      "\u001b[?25h  Created wheel for mmcv-full: filename=mmcv_full-1.3.16-cp37-cp37m-linux_x86_64.whl size=43670682 sha256=34b06c50ebeae41605eb05a2c5a601bf9f685050bed8cc6bdf04840a8d29b322\n",
      "  Stored in directory: /root/.cache/pip/wheels/ea/0a/1e/95428dfef725d66e6693b61180b928c293489b6d13df3ae0e2\n",
      "Successfully built mmcv-full\n",
      "Installing collected packages: mmcv-full\n",
      "Successfully installed mmcv-full-1.3.16\n",
      "\u001b[33mWARNING: Running pip as the 'root' user can result in broken permissions and conflicting behaviour with the system package manager. It is recommended to use a virtual environment instead: https://pip.pypa.io/warnings/venv\u001b[0m\n"
     ]
    }
   ],
   "source": [
    "!pip install mmcv-full"
   ]
  },
  {
   "cell_type": "code",
   "execution_count": 5,
   "id": "e1398900-1248-4535-8daf-6cd63aead1b1",
   "metadata": {},
   "outputs": [
    {
     "name": "stdout",
     "output_type": "stream",
     "text": [
      "Collecting mmsegmentation\n",
      "  Downloading mmsegmentation-0.18.0-py3-none-any.whl (623 kB)\n",
      "     |████████████████████████████████| 623 kB 1.0 MB/s            \n",
      "\u001b[?25hRequirement already satisfied: packaging in /opt/conda/lib/python3.7/site-packages (from mmsegmentation) (21.0)\n",
      "Collecting prettytable\n",
      "  Downloading prettytable-2.2.1-py3-none-any.whl (23 kB)\n",
      "Requirement already satisfied: matplotlib in /opt/conda/lib/python3.7/site-packages (from mmsegmentation) (3.4.3)\n",
      "Requirement already satisfied: numpy in /opt/conda/lib/python3.7/site-packages (from mmsegmentation) (1.21.2)\n",
      "Requirement already satisfied: kiwisolver>=1.0.1 in /opt/conda/lib/python3.7/site-packages (from matplotlib->mmsegmentation) (1.3.2)\n",
      "Requirement already satisfied: pyparsing>=2.2.1 in /opt/conda/lib/python3.7/site-packages (from matplotlib->mmsegmentation) (2.4.7)\n",
      "Requirement already satisfied: cycler>=0.10 in /opt/conda/lib/python3.7/site-packages (from matplotlib->mmsegmentation) (0.10.0)\n",
      "Requirement already satisfied: python-dateutil>=2.7 in /opt/conda/lib/python3.7/site-packages (from matplotlib->mmsegmentation) (2.8.2)\n",
      "Requirement already satisfied: pillow>=6.2.0 in /opt/conda/lib/python3.7/site-packages (from matplotlib->mmsegmentation) (8.3.2)\n",
      "Requirement already satisfied: wcwidth in /opt/conda/lib/python3.7/site-packages (from prettytable->mmsegmentation) (0.2.5)\n",
      "Requirement already satisfied: importlib-metadata in /opt/conda/lib/python3.7/site-packages (from prettytable->mmsegmentation) (4.8.1)\n",
      "Requirement already satisfied: six in /opt/conda/lib/python3.7/site-packages (from cycler>=0.10->matplotlib->mmsegmentation) (1.16.0)\n",
      "Requirement already satisfied: zipp>=0.5 in /opt/conda/lib/python3.7/site-packages (from importlib-metadata->prettytable->mmsegmentation) (3.6.0)\n",
      "Requirement already satisfied: typing-extensions>=3.6.4 in /opt/conda/lib/python3.7/site-packages (from importlib-metadata->prettytable->mmsegmentation) (3.7.4.3)\n",
      "Installing collected packages: prettytable, mmsegmentation\n",
      "Successfully installed mmsegmentation-0.18.0 prettytable-2.2.1\n",
      "\u001b[33mWARNING: Running pip as the 'root' user can result in broken permissions and conflicting behaviour with the system package manager. It is recommended to use a virtual environment instead: https://pip.pypa.io/warnings/venv\u001b[0m\n",
      "Note: you may need to restart the kernel to use updated packages.\n"
     ]
    }
   ],
   "source": [
    "pip install mmsegmentation"
   ]
  },
  {
   "cell_type": "code",
   "execution_count": 1,
   "id": "c88591e7-378f-4f45-99cd-a73f395cf725",
   "metadata": {},
   "outputs": [
    {
     "name": "stdout",
     "output_type": "stream",
     "text": [
      "Reading package lists... Done\n",
      "Building dependency tree       \n",
      "Reading state information... Done\n",
      "The following additional packages will be installed:\n",
      "  git-man krb5-locales less libcurl3-gnutls liberror-perl libgssapi-krb5-2\n",
      "  libk5crypto3 libkeyutils1 libkrb5-3 libkrb5support0 libnghttp2-14 libpsl5\n",
      "  librtmp1 libssl1.0.0 libxmuu1 openssh-client publicsuffix xauth\n",
      "Suggested packages:\n",
      "  gettext-base git-daemon-run | git-daemon-sysvinit git-doc git-el git-email\n",
      "  git-gui gitk gitweb git-cvs git-mediawiki git-svn krb5-doc krb5-user\n",
      "  keychain libpam-ssh monkeysphere ssh-askpass\n",
      "The following NEW packages will be installed:\n",
      "  git git-man krb5-locales less libcurl3-gnutls liberror-perl libgssapi-krb5-2\n",
      "  libk5crypto3 libkeyutils1 libkrb5-3 libkrb5support0 libnghttp2-14 libpsl5\n",
      "  librtmp1 libssl1.0.0 libxmuu1 openssh-client publicsuffix xauth\n",
      "0 upgraded, 19 newly installed, 0 to remove and 54 not upgraded.\n",
      "Need to get 7624 kB of archives.\n",
      "After this operation, 45.5 MB of additional disk space will be used.\n",
      "Get:1 http://archive.ubuntu.com/ubuntu bionic/main amd64 less amd64 487-0.1 [112 kB]\n",
      "Get:2 http://archive.ubuntu.com/ubuntu bionic-updates/main amd64 krb5-locales all 1.16-2ubuntu0.2 [13.4 kB]\n",
      "Get:3 http://archive.ubuntu.com/ubuntu bionic-updates/main amd64 libkrb5support0 amd64 1.16-2ubuntu0.2 [30.8 kB]\n",
      "Get:4 http://archive.ubuntu.com/ubuntu bionic-updates/main amd64 libk5crypto3 amd64 1.16-2ubuntu0.2 [85.5 kB]\n",
      "Get:5 http://archive.ubuntu.com/ubuntu bionic/main amd64 libkeyutils1 amd64 1.5.9-9.2ubuntu2 [8720 B]\n",
      "Get:6 http://archive.ubuntu.com/ubuntu bionic-updates/main amd64 libkrb5-3 amd64 1.16-2ubuntu0.2 [279 kB]\n",
      "Get:7 http://archive.ubuntu.com/ubuntu bionic-updates/main amd64 libgssapi-krb5-2 amd64 1.16-2ubuntu0.2 [122 kB]\n",
      "Get:8 http://archive.ubuntu.com/ubuntu bionic/main amd64 libpsl5 amd64 0.19.1-5build1 [41.8 kB]\n",
      "Get:9 http://archive.ubuntu.com/ubuntu bionic-updates/main amd64 libssl1.0.0 amd64 1.0.2n-1ubuntu5.7 [1089 kB]\n",
      "Get:10 http://archive.ubuntu.com/ubuntu bionic/main amd64 libxmuu1 amd64 2:1.1.2-2 [9674 B]\n",
      "Get:11 http://archive.ubuntu.com/ubuntu bionic-updates/main amd64 openssh-client amd64 1:7.6p1-4ubuntu0.5 [612 kB]\n",
      "Get:12 http://archive.ubuntu.com/ubuntu bionic/main amd64 publicsuffix all 20180223.1310-1 [97.6 kB]\n",
      "Get:13 http://archive.ubuntu.com/ubuntu bionic/main amd64 xauth amd64 1:1.0.10-1 [24.6 kB]\n",
      "Get:14 http://archive.ubuntu.com/ubuntu bionic/main amd64 libnghttp2-14 amd64 1.30.0-1ubuntu1 [77.8 kB]\n",
      "Get:15 http://archive.ubuntu.com/ubuntu bionic/main amd64 librtmp1 amd64 2.4+20151223.gitfa8646d.1-1 [54.2 kB]\n",
      "Get:16 http://archive.ubuntu.com/ubuntu bionic-updates/main amd64 libcurl3-gnutls amd64 7.58.0-2ubuntu3.16 [218 kB]\n",
      "Get:17 http://archive.ubuntu.com/ubuntu bionic/main amd64 liberror-perl all 0.17025-1 [22.8 kB]\n",
      "Get:18 http://archive.ubuntu.com/ubuntu bionic-updates/main amd64 git-man all 1:2.17.1-1ubuntu0.9 [803 kB]\n",
      "Get:19 http://archive.ubuntu.com/ubuntu bionic-updates/main amd64 git amd64 1:2.17.1-1ubuntu0.9 [3923 kB]\n",
      "Fetched 7624 kB in 8s (925 kB/s)                                               \n",
      "debconf: delaying package configuration, since apt-utils is not installed\n",
      "Selecting previously unselected package less.\n",
      "(Reading database ... 13288 files and directories currently installed.)\n",
      "Preparing to unpack .../00-less_487-0.1_amd64.deb ...\n",
      "Unpacking less (487-0.1) ...\n",
      "Selecting previously unselected package krb5-locales.\n",
      "Preparing to unpack .../01-krb5-locales_1.16-2ubuntu0.2_all.deb ...\n",
      "Unpacking krb5-locales (1.16-2ubuntu0.2) ...\n",
      "Selecting previously unselected package libkrb5support0:amd64.\n",
      "Preparing to unpack .../02-libkrb5support0_1.16-2ubuntu0.2_amd64.deb ...\n",
      "Unpacking libkrb5support0:amd64 (1.16-2ubuntu0.2) ...\n",
      "Selecting previously unselected package libk5crypto3:amd64.\n",
      "Preparing to unpack .../03-libk5crypto3_1.16-2ubuntu0.2_amd64.deb ...\n",
      "Unpacking libk5crypto3:amd64 (1.16-2ubuntu0.2) ...\n",
      "Selecting previously unselected package libkeyutils1:amd64.\n",
      "Preparing to unpack .../04-libkeyutils1_1.5.9-9.2ubuntu2_amd64.deb ...\n",
      "Unpacking libkeyutils1:amd64 (1.5.9-9.2ubuntu2) ...\n",
      "Selecting previously unselected package libkrb5-3:amd64.\n",
      "Preparing to unpack .../05-libkrb5-3_1.16-2ubuntu0.2_amd64.deb ...\n",
      "Unpacking libkrb5-3:amd64 (1.16-2ubuntu0.2) ...\n",
      "Selecting previously unselected package libgssapi-krb5-2:amd64.\n",
      "Preparing to unpack .../06-libgssapi-krb5-2_1.16-2ubuntu0.2_amd64.deb ...\n",
      "Unpacking libgssapi-krb5-2:amd64 (1.16-2ubuntu0.2) ...\n",
      "Selecting previously unselected package libpsl5:amd64.\n",
      "Preparing to unpack .../07-libpsl5_0.19.1-5build1_amd64.deb ...\n",
      "Unpacking libpsl5:amd64 (0.19.1-5build1) ...\n",
      "Selecting previously unselected package libssl1.0.0:amd64.\n",
      "Preparing to unpack .../08-libssl1.0.0_1.0.2n-1ubuntu5.7_amd64.deb ...\n",
      "Unpacking libssl1.0.0:amd64 (1.0.2n-1ubuntu5.7) ...\n",
      "Selecting previously unselected package libxmuu1:amd64.\n",
      "Preparing to unpack .../09-libxmuu1_2%3a1.1.2-2_amd64.deb ...\n",
      "Unpacking libxmuu1:amd64 (2:1.1.2-2) ...\n",
      "Selecting previously unselected package openssh-client.\n",
      "Preparing to unpack .../10-openssh-client_1%3a7.6p1-4ubuntu0.5_amd64.deb ...\n",
      "Unpacking openssh-client (1:7.6p1-4ubuntu0.5) ...\n",
      "Selecting previously unselected package publicsuffix.\n",
      "Preparing to unpack .../11-publicsuffix_20180223.1310-1_all.deb ...\n",
      "Unpacking publicsuffix (20180223.1310-1) ...\n",
      "Selecting previously unselected package xauth.\n",
      "Preparing to unpack .../12-xauth_1%3a1.0.10-1_amd64.deb ...\n",
      "Unpacking xauth (1:1.0.10-1) ...\n",
      "Selecting previously unselected package libnghttp2-14:amd64.\n",
      "Preparing to unpack .../13-libnghttp2-14_1.30.0-1ubuntu1_amd64.deb ...\n",
      "Unpacking libnghttp2-14:amd64 (1.30.0-1ubuntu1) ...\n",
      "Selecting previously unselected package librtmp1:amd64.\n",
      "Preparing to unpack .../14-librtmp1_2.4+20151223.gitfa8646d.1-1_amd64.deb ...\n",
      "Unpacking librtmp1:amd64 (2.4+20151223.gitfa8646d.1-1) ...\n",
      "Selecting previously unselected package libcurl3-gnutls:amd64.\n",
      "Preparing to unpack .../15-libcurl3-gnutls_7.58.0-2ubuntu3.16_amd64.deb ...\n",
      "Unpacking libcurl3-gnutls:amd64 (7.58.0-2ubuntu3.16) ...\n",
      "Selecting previously unselected package liberror-perl.\n",
      "Preparing to unpack .../16-liberror-perl_0.17025-1_all.deb ...\n",
      "Unpacking liberror-perl (0.17025-1) ...\n",
      "Selecting previously unselected package git-man.\n",
      "Preparing to unpack .../17-git-man_1%3a2.17.1-1ubuntu0.9_all.deb ...\n",
      "Unpacking git-man (1:2.17.1-1ubuntu0.9) ...\n",
      "Selecting previously unselected package git.\n",
      "Preparing to unpack .../18-git_1%3a2.17.1-1ubuntu0.9_amd64.deb ...\n",
      "Unpacking git (1:2.17.1-1ubuntu0.9) ...\n",
      "Setting up git-man (1:2.17.1-1ubuntu0.9) ...\n",
      "Setting up less (487-0.1) ...\n",
      "debconf: unable to initialize frontend: Dialog\n",
      "debconf: (No usable dialog-like program is installed, so the dialog based frontend cannot be used. at /usr/share/perl5/Debconf/FrontEnd/Dialog.pm line 76.)\n",
      "debconf: falling back to frontend: Readline\n",
      "Setting up libssl1.0.0:amd64 (1.0.2n-1ubuntu5.7) ...\n",
      "debconf: unable to initialize frontend: Dialog\n",
      "debconf: (No usable dialog-like program is installed, so the dialog based frontend cannot be used. at /usr/share/perl5/Debconf/FrontEnd/Dialog.pm line 76.)\n",
      "debconf: falling back to frontend: Readline\n",
      "Setting up libnghttp2-14:amd64 (1.30.0-1ubuntu1) ...\n",
      "Setting up liberror-perl (0.17025-1) ...\n",
      "Setting up libpsl5:amd64 (0.19.1-5build1) ...\n",
      "Setting up librtmp1:amd64 (2.4+20151223.gitfa8646d.1-1) ...\n",
      "Setting up libkrb5support0:amd64 (1.16-2ubuntu0.2) ...\n",
      "Setting up libxmuu1:amd64 (2:1.1.2-2) ...\n",
      "Setting up xauth (1:1.0.10-1) ...\n",
      "Setting up krb5-locales (1.16-2ubuntu0.2) ...\n",
      "Setting up publicsuffix (20180223.1310-1) ...\n",
      "Setting up libkeyutils1:amd64 (1.5.9-9.2ubuntu2) ...\n",
      "Setting up libk5crypto3:amd64 (1.16-2ubuntu0.2) ...\n",
      "Setting up libkrb5-3:amd64 (1.16-2ubuntu0.2) ...\n",
      "Setting up libgssapi-krb5-2:amd64 (1.16-2ubuntu0.2) ...\n",
      "Setting up openssh-client (1:7.6p1-4ubuntu0.5) ...\n",
      "Setting up libcurl3-gnutls:amd64 (7.58.0-2ubuntu3.16) ...\n",
      "Setting up git (1:2.17.1-1ubuntu0.9) ...\n",
      "Processing triggers for libc-bin (2.27-3ubuntu1.3) ...\n"
     ]
    }
   ],
   "source": [
    "!apt-get install git -y"
   ]
  },
  {
   "cell_type": "code",
   "execution_count": 2,
   "id": "cb67a7cc-4e70-47d1-a2be-8830a73d4d1b",
   "metadata": {},
   "outputs": [
    {
     "name": "stdout",
     "output_type": "stream",
     "text": [
      "Cloning into 'mmsegmentation'...\n",
      "remote: Enumerating objects: 4662, done.\u001b[K\n",
      "remote: Counting objects: 100% (1400/1400), done.\u001b[K\n",
      "remote: Compressing objects: 100% (826/826), done.\u001b[K\n",
      "remote: Total 4662 (delta 815), reused 895 (delta 567), pack-reused 3262\u001b[K\n",
      "Receiving objects: 100% (4662/4662), 6.33 MiB | 992.00 KiB/s, done.\n",
      "Resolving deltas: 100% (3202/3202), done.\n"
     ]
    }
   ],
   "source": [
    "!git clone https://github.com/open-mmlab/mmsegmentation.git "
   ]
  },
  {
   "cell_type": "code",
   "execution_count": 4,
   "id": "2da92256-07c1-4aa6-9329-c1b909cc6b67",
   "metadata": {},
   "outputs": [],
   "source": [
    "import mmcv \n",
    "import os.path as osp\n",
    "import numpy as np\n",
    "from PIL import Image\n",
    "\n",
    "data_root='/root'\n",
    "split_dir = 'splits'\n",
    "ann_dir='val_mask'\n",
    "mmcv.mkdir_or_exist(osp.join(data_root, split_dir))\n",
    "filename_list = [osp.splitext(filename)[0] for filename in mmcv.scandir(osp.join(data_root, ann_dir), suffix='.png')]\n",
    "\n",
    "filename_list.sort()\n",
    "with open(osp.join(data_root, split_dir, 'val.txt'), 'w') as f:\n",
    "  f.writelines(line + '\\n' for line in filename_list)\n",
    "# with open(osp.join(data_root, split_dir, 'val.txt'), 'w') as f:\n",
    "#   # select last 1/5 as train set\n",
    "#   f.writelines(line + '\\n' for line in filename_list[train_length:])"
   ]
  },
  {
   "cell_type": "code",
   "execution_count": 9,
   "id": "9c00dd15-1800-4fda-9687-0f966476e5aa",
   "metadata": {},
   "outputs": [],
   "source": [
    "data_root='/root'\n",
    "split_dir = 'splits'\n",
    "ann_dir='val_mask'\n",
    "mmcv.mkdir_or_exist(osp.join(data_root, split_dir))\n",
    "filename_list = [osp.splitext(filename)[0] for filename in mmcv.scandir(osp.join(data_root, ann_dir), suffix='.png')]\n",
    "filename_list.sort()\n",
    "with open(osp.join(data_root, split_dir, 'val.txt'), 'w') as f:\n",
    "  f.writelines(line + '\\n' for line in filename_list)"
   ]
  },
  {
   "cell_type": "code",
   "execution_count": 3,
   "id": "ec555be2-d735-4e72-8c9b-16f42ef0ca8e",
   "metadata": {},
   "outputs": [
    {
     "data": {
      "text/plain": [
       "1908"
      ]
     },
     "execution_count": 3,
     "metadata": {},
     "output_type": "execute_result"
    }
   ],
   "source": [
    "len(filename_list)"
   ]
  },
  {
   "cell_type": "code",
   "execution_count": 4,
   "id": "3db9f4ae-6184-4465-9403-bde56656e6f5",
   "metadata": {},
   "outputs": [],
   "source": [
    "import glob as _glob\n",
    "import os\n",
    "def glob(dir, pats, recursive=False):  # faster than match, python3 only\n",
    "    pats = pats if isinstance(pats, (list, tuple)) else [pats]\n",
    "    matches = []\n",
    "    for pat in pats:\n",
    "        matches += _glob.glob(os.path.join(dir, pat), recursive=recursive)\n",
    "    return matches"
   ]
  },
  {
   "cell_type": "code",
   "execution_count": 8,
   "id": "ae40ff5c-7c29-426d-857f-9a0733c7181e",
   "metadata": {},
   "outputs": [
    {
     "data": {
      "text/plain": [
       "1908"
      ]
     },
     "execution_count": 8,
     "metadata": {},
     "output_type": "execute_result"
    }
   ],
   "source": [
    "len(glob('val_mask','*'))"
   ]
  },
  {
   "cell_type": "code",
   "execution_count": null,
   "id": "38d71549-405f-43b9-9266-e7f533cc3f36",
   "metadata": {},
   "outputs": [],
   "source": []
  }
 ],
 "metadata": {
  "kernelspec": {
   "display_name": "Python 3 (ipykernel)",
   "language": "python",
   "name": "python3"
  },
  "language_info": {
   "codemirror_mode": {
    "name": "ipython",
    "version": 3
   },
   "file_extension": ".py",
   "mimetype": "text/x-python",
   "name": "python",
   "nbconvert_exporter": "python",
   "pygments_lexer": "ipython3",
   "version": "3.7.10"
  }
 },
 "nbformat": 4,
 "nbformat_minor": 5
}
